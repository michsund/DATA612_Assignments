{
  "nbformat": 4,
  "nbformat_minor": 0,
  "metadata": {
    "colab": {
      "name": "Sunderman_Mod6.ipynb",
      "provenance": [],
      "collapsed_sections": [],
      "include_colab_link": true
    },
    "kernelspec": {
      "name": "python3",
      "display_name": "Python 3"
    }
  },
  "cells": [
    {
      "cell_type": "markdown",
      "metadata": {
        "id": "view-in-github",
        "colab_type": "text"
      },
      "source": [
        "<a href=\"https://colab.research.google.com/github/michsund/DATA612_Assignments/blob/main/Sunderman_Mod6.ipynb\" target=\"_parent\"><img src=\"https://colab.research.google.com/assets/colab-badge.svg\" alt=\"Open In Colab\"/></a>"
      ]
    },
    {
      "cell_type": "markdown",
      "metadata": {
        "id": "itDxvmaoOgOI"
      },
      "source": [
        "# Assignment for Week 6      \n",
        "(Chapter 8 & 9)"
      ]
    },
    {
      "cell_type": "markdown",
      "metadata": {
        "id": "FW3jd6aMOhED"
      },
      "source": [
        "## Purpose:     \n",
        "This assignment is intended to help you do the following:     \n",
        "1.\tAdvance your knowledge on working with strings\n",
        "2.\tFamiliarize with regular expression\n",
        "3.\tUse of functions and .apply()\n"
      ]
    },
    {
      "cell_type": "markdown",
      "metadata": {
        "id": "TzDuUf45Ow3f"
      },
      "source": [
        "## Action Items:       \n",
        "•\tWorking with strings.\n",
        "1. Clean a column on your data set using \n",
        "regular expression methods.      \n",
        "2. Store the cleaned column into another column of your data set and call it “your_col_name_cleaned”.     \n",
        "\n",
        "  *Another data set will be provided if your data set is not appropriate to apply regular expression methods.        \n",
        "\n",
        "•\tUse of .apply() \n",
        "\n",
        "1.   Create a function that returns the mean, sum, mode, median, and range (separately)      \n",
        "2.   Run the function into your chosen data set using the .apply() method.     \n",
        "3.   Post your work on GitHub\n"
      ]
    },
    {
      "cell_type": "code",
      "metadata": {
        "id": "GvxeKpRR8YWJ"
      },
      "source": [
        " import pandas as pd\n",
        " import numpy as np\n",
        " import re"
      ],
      "execution_count": 1,
      "outputs": []
    },
    {
      "cell_type": "code",
      "metadata": {
        "id": "gc3ehZisOdDh"
      },
      "source": [
        "df = pd.read_csv('https://raw.githubusercontent.com/frankData612/data_612/master/State_Drug_Utilization_Data_2010/State_Drug_Utilization_Data_2010.csv')"
      ],
      "execution_count": 2,
      "outputs": []
    },
    {
      "cell_type": "code",
      "metadata": {
        "id": "LuO2OJbRnRfn",
        "outputId": "36cf3e8b-c3c6-44a2-f5ef-e994d3204a88",
        "colab": {
          "base_uri": "https://localhost:8080/",
          "height": 343
        }
      },
      "source": [
        "df.head()"
      ],
      "execution_count": 3,
      "outputs": [
        {
          "output_type": "execute_result",
          "data": {
            "text/html": [
              "<div>\n",
              "<style scoped>\n",
              "    .dataframe tbody tr th:only-of-type {\n",
              "        vertical-align: middle;\n",
              "    }\n",
              "\n",
              "    .dataframe tbody tr th {\n",
              "        vertical-align: top;\n",
              "    }\n",
              "\n",
              "    .dataframe thead th {\n",
              "        text-align: right;\n",
              "    }\n",
              "</style>\n",
              "<table border=\"1\" class=\"dataframe\">\n",
              "  <thead>\n",
              "    <tr style=\"text-align: right;\">\n",
              "      <th></th>\n",
              "      <th>Unnamed: 0</th>\n",
              "      <th>Utilization Type</th>\n",
              "      <th>State</th>\n",
              "      <th>Labeler Code</th>\n",
              "      <th>Product Code</th>\n",
              "      <th>Package Size</th>\n",
              "      <th>Year</th>\n",
              "      <th>Quarter</th>\n",
              "      <th>Product Name</th>\n",
              "      <th>Units Reimbursed</th>\n",
              "      <th>Suppression Used</th>\n",
              "      <th>Number of Prescriptions</th>\n",
              "      <th>Total Amount Reimbursed</th>\n",
              "      <th>Medicaid Amount Reimbursed</th>\n",
              "      <th>Non Medicaid Amount Reimbursed</th>\n",
              "      <th>Quarter Begin</th>\n",
              "      <th>Quarter Begin Date</th>\n",
              "      <th>Latitude</th>\n",
              "      <th>Longitude</th>\n",
              "      <th>Location</th>\n",
              "      <th>NDC</th>\n",
              "    </tr>\n",
              "  </thead>\n",
              "  <tbody>\n",
              "    <tr>\n",
              "      <th>0</th>\n",
              "      <td>128037</td>\n",
              "      <td>MCOU</td>\n",
              "      <td>MA</td>\n",
              "      <td>37205</td>\n",
              "      <td>137</td>\n",
              "      <td>5</td>\n",
              "      <td>2010</td>\n",
              "      <td>4</td>\n",
              "      <td>ARTIFICIAL</td>\n",
              "      <td>15.000</td>\n",
              "      <td>False</td>\n",
              "      <td>1</td>\n",
              "      <td>4.08</td>\n",
              "      <td>4.08</td>\n",
              "      <td>0.0</td>\n",
              "      <td>10/1</td>\n",
              "      <td>10/01/2010</td>\n",
              "      <td>31.1801</td>\n",
              "      <td>-91.8749</td>\n",
              "      <td>(31.1801, -91.8749)</td>\n",
              "      <td>37205013705</td>\n",
              "    </tr>\n",
              "    <tr>\n",
              "      <th>1</th>\n",
              "      <td>491755</td>\n",
              "      <td>FFSU</td>\n",
              "      <td>FL</td>\n",
              "      <td>62756</td>\n",
              "      <td>763</td>\n",
              "      <td>88</td>\n",
              "      <td>2010</td>\n",
              "      <td>1</td>\n",
              "      <td>TORSEMIDE</td>\n",
              "      <td>255.000</td>\n",
              "      <td>False</td>\n",
              "      <td>8</td>\n",
              "      <td>103.33</td>\n",
              "      <td>103.33</td>\n",
              "      <td>0.0</td>\n",
              "      <td>1/1</td>\n",
              "      <td>01/01/2010</td>\n",
              "      <td>39.3498</td>\n",
              "      <td>-75.5148</td>\n",
              "      <td>(39.3498, -75.5148)</td>\n",
              "      <td>62756076388</td>\n",
              "    </tr>\n",
              "    <tr>\n",
              "      <th>2</th>\n",
              "      <td>2568076</td>\n",
              "      <td>FFSU</td>\n",
              "      <td>UT</td>\n",
              "      <td>46987</td>\n",
              "      <td>323</td>\n",
              "      <td>11</td>\n",
              "      <td>2010</td>\n",
              "      <td>2</td>\n",
              "      <td>Kadian Ora</td>\n",
              "      <td>120.000</td>\n",
              "      <td>False</td>\n",
              "      <td>2</td>\n",
              "      <td>905.24</td>\n",
              "      <td>905.24</td>\n",
              "      <td>0.0</td>\n",
              "      <td>4/1</td>\n",
              "      <td>04/01/2010</td>\n",
              "      <td>44.2853</td>\n",
              "      <td>-99.4632</td>\n",
              "      <td>(44.2853, -99.4632)</td>\n",
              "      <td>46987032311</td>\n",
              "    </tr>\n",
              "    <tr>\n",
              "      <th>3</th>\n",
              "      <td>491263</td>\n",
              "      <td>FFSU</td>\n",
              "      <td>MN</td>\n",
              "      <td>781</td>\n",
              "      <td>5185</td>\n",
              "      <td>1</td>\n",
              "      <td>2010</td>\n",
              "      <td>4</td>\n",
              "      <td>LEVOTHYROX</td>\n",
              "      <td>1114.000</td>\n",
              "      <td>False</td>\n",
              "      <td>34</td>\n",
              "      <td>312.22</td>\n",
              "      <td>306.22</td>\n",
              "      <td>6.0</td>\n",
              "      <td>10/1</td>\n",
              "      <td>10/01/2010</td>\n",
              "      <td>43.3504</td>\n",
              "      <td>-84.5603</td>\n",
              "      <td>(43.3504, -84.5603)</td>\n",
              "      <td>781518501</td>\n",
              "    </tr>\n",
              "    <tr>\n",
              "      <th>4</th>\n",
              "      <td>836489</td>\n",
              "      <td>FFSU</td>\n",
              "      <td>XX</td>\n",
              "      <td>51552</td>\n",
              "      <td>809</td>\n",
              "      <td>6</td>\n",
              "      <td>2010</td>\n",
              "      <td>2</td>\n",
              "      <td>COLD CREAM</td>\n",
              "      <td>226.089</td>\n",
              "      <td>False</td>\n",
              "      <td>7</td>\n",
              "      <td>52.87</td>\n",
              "      <td>52.87</td>\n",
              "      <td>0.0</td>\n",
              "      <td>4/1</td>\n",
              "      <td>04/01/2010</td>\n",
              "      <td>NaN</td>\n",
              "      <td>NaN</td>\n",
              "      <td>NaN</td>\n",
              "      <td>51552080906</td>\n",
              "    </tr>\n",
              "  </tbody>\n",
              "</table>\n",
              "</div>"
            ],
            "text/plain": [
              "   Unnamed: 0 Utilization Type  ...             Location          NDC\n",
              "0      128037             MCOU  ...  (31.1801, -91.8749)  37205013705\n",
              "1      491755             FFSU  ...  (39.3498, -75.5148)  62756076388\n",
              "2     2568076             FFSU  ...  (44.2853, -99.4632)  46987032311\n",
              "3      491263             FFSU  ...  (43.3504, -84.5603)    781518501\n",
              "4      836489             FFSU  ...                  NaN  51552080906\n",
              "\n",
              "[5 rows x 21 columns]"
            ]
          },
          "metadata": {
            "tags": []
          },
          "execution_count": 3
        }
      ]
    },
    {
      "cell_type": "code",
      "metadata": {
        "id": "M2v65u_aJQLJ",
        "outputId": "0bdd2394-5071-4000-a0dc-f033db3ecdfd",
        "colab": {
          "base_uri": "https://localhost:8080/"
        }
      },
      "source": [
        "df['Product Name'].value_counts()"
      ],
      "execution_count": 4,
      "outputs": [
        {
          "output_type": "execute_result",
          "data": {
            "text/plain": [
              "LISINOPRIL    1897\n",
              "METFORMIN     1370\n",
              "RISPERIDON    1288\n",
              "AMOXICILLI    1275\n",
              "SIMVASTATI    1224\n",
              "              ... \n",
              "GOOD START       1\n",
              "SUDAL-12 C       1\n",
              "FA-CYANOCO       1\n",
              "FAMVIR (FA       1\n",
              "BALZIVA          1\n",
              "Name: Product Name, Length: 10190, dtype: int64"
            ]
          },
          "metadata": {
            "tags": []
          },
          "execution_count": 4
        }
      ]
    },
    {
      "cell_type": "code",
      "metadata": {
        "id": "PMskozxpAhP5",
        "outputId": "7e976502-c435-4a82-e766-e83711fce2ef",
        "colab": {
          "base_uri": "https://localhost:8080/"
        }
      },
      "source": [
        "p = re.compile('[A-Z]+[a-z]+')\n",
        "prod = df['Product Name'].str.findall(p)\n",
        "print(prod)"
      ],
      "execution_count": 5,
      "outputs": [
        {
          "output_type": "stream",
          "text": [
            "0                    []\n",
            "1                    []\n",
            "2         [Kadian, Ora]\n",
            "3                    []\n",
            "4                    []\n",
            "              ...      \n",
            "156215               []\n",
            "156216               []\n",
            "156217               []\n",
            "156218               []\n",
            "156219               []\n",
            "Name: Product Name, Length: 156220, dtype: object\n"
          ],
          "name": "stdout"
        }
      ]
    },
    {
      "cell_type": "code",
      "metadata": {
        "id": "sAxyXs0QFinS"
      },
      "source": [
        "df['Product Name Cleaned'] = df['Product Name'].str.replace('Kadian Ora', 'KADIAN ORA')"
      ],
      "execution_count": 6,
      "outputs": []
    },
    {
      "cell_type": "code",
      "metadata": {
        "id": "ahPSlgw1GL7e",
        "outputId": "c4c25b6e-c404-4f01-cb29-4a0c7ba20fae",
        "colab": {
          "base_uri": "https://localhost:8080/"
        }
      },
      "source": [
        "df['Product Name Cleaned']"
      ],
      "execution_count": 7,
      "outputs": [
        {
          "output_type": "execute_result",
          "data": {
            "text/plain": [
              "0         ARTIFICIAL\n",
              "1          TORSEMIDE\n",
              "2         KADIAN ORA\n",
              "3         LEVOTHYROX\n",
              "4         COLD CREAM\n",
              "             ...    \n",
              "156215    QC DOCUSAT\n",
              "156216    DIPHENHYDR\n",
              "156217    CLOBETASOL\n",
              "156218    ALLEGRA (F\n",
              "156219    BACTROBAN(\n",
              "Name: Product Name Cleaned, Length: 156220, dtype: object"
            ]
          },
          "metadata": {
            "tags": []
          },
          "execution_count": 7
        }
      ]
    },
    {
      "cell_type": "code",
      "metadata": {
        "id": "NAQD5azS1gDQ",
        "outputId": "31c8786f-d702-4920-d028-3fdc80f87049",
        "colab": {
          "base_uri": "https://localhost:8080/"
        }
      },
      "source": [
        "df.shape"
      ],
      "execution_count": 8,
      "outputs": [
        {
          "output_type": "execute_result",
          "data": {
            "text/plain": [
              "(156220, 22)"
            ]
          },
          "metadata": {
            "tags": []
          },
          "execution_count": 8
        }
      ]
    },
    {
      "cell_type": "code",
      "metadata": {
        "id": "pK9LO19U2oXl"
      },
      "source": [
        "scrips = df[['Number of Prescriptions', 'Package Size']].copy()"
      ],
      "execution_count": 9,
      "outputs": []
    },
    {
      "cell_type": "code",
      "metadata": {
        "id": "6ggzKKiA6w-z",
        "outputId": "f796c648-f299-4de3-edb3-a68b98020b3b",
        "colab": {
          "base_uri": "https://localhost:8080/",
          "height": 204
        }
      },
      "source": [
        "scrips.head()"
      ],
      "execution_count": 10,
      "outputs": [
        {
          "output_type": "execute_result",
          "data": {
            "text/html": [
              "<div>\n",
              "<style scoped>\n",
              "    .dataframe tbody tr th:only-of-type {\n",
              "        vertical-align: middle;\n",
              "    }\n",
              "\n",
              "    .dataframe tbody tr th {\n",
              "        vertical-align: top;\n",
              "    }\n",
              "\n",
              "    .dataframe thead th {\n",
              "        text-align: right;\n",
              "    }\n",
              "</style>\n",
              "<table border=\"1\" class=\"dataframe\">\n",
              "  <thead>\n",
              "    <tr style=\"text-align: right;\">\n",
              "      <th></th>\n",
              "      <th>Number of Prescriptions</th>\n",
              "      <th>Package Size</th>\n",
              "    </tr>\n",
              "  </thead>\n",
              "  <tbody>\n",
              "    <tr>\n",
              "      <th>0</th>\n",
              "      <td>1</td>\n",
              "      <td>5</td>\n",
              "    </tr>\n",
              "    <tr>\n",
              "      <th>1</th>\n",
              "      <td>8</td>\n",
              "      <td>88</td>\n",
              "    </tr>\n",
              "    <tr>\n",
              "      <th>2</th>\n",
              "      <td>2</td>\n",
              "      <td>11</td>\n",
              "    </tr>\n",
              "    <tr>\n",
              "      <th>3</th>\n",
              "      <td>34</td>\n",
              "      <td>1</td>\n",
              "    </tr>\n",
              "    <tr>\n",
              "      <th>4</th>\n",
              "      <td>7</td>\n",
              "      <td>6</td>\n",
              "    </tr>\n",
              "  </tbody>\n",
              "</table>\n",
              "</div>"
            ],
            "text/plain": [
              "   Number of Prescriptions  Package Size\n",
              "0                        1             5\n",
              "1                        8            88\n",
              "2                        2            11\n",
              "3                       34             1\n",
              "4                        7             6"
            ]
          },
          "metadata": {
            "tags": []
          },
          "execution_count": 10
        }
      ]
    },
    {
      "cell_type": "code",
      "metadata": {
        "id": "rSK9g8L91jsv"
      },
      "source": [
        "def avg(vec):\n",
        "  tot = sum(vec)\n",
        "  shp = vec.size\n",
        "  return tot / shp"
      ],
      "execution_count": 12,
      "outputs": []
    },
    {
      "cell_type": "code",
      "metadata": {
        "id": "urew_8Er8BYP",
        "outputId": "ee8347b6-2704-47f3-ac11-f74f4b81a823",
        "colab": {
          "base_uri": "https://localhost:8080/"
        }
      },
      "source": [
        "average = scrips.apply(avg)\n",
        "print(average)"
      ],
      "execution_count": 13,
      "outputs": [
        {
          "output_type": "stream",
          "text": [
            "Number of Prescriptions    316.780067\n",
            "Package Size                22.058885\n",
            "dtype: float64\n"
          ],
          "name": "stdout"
        }
      ]
    },
    {
      "cell_type": "code",
      "metadata": {
        "id": "FwzNuBUM8EBv",
        "outputId": "eb66544b-6a3e-4633-a452-ff74e14bc1da",
        "colab": {
          "base_uri": "https://localhost:8080/"
        }
      },
      "source": [
        "def sm(vec):\n",
        "  totl = sum(vec)\n",
        "  return totl\n",
        "sum = scrips.apply(sm)\n",
        "print(sum)"
      ],
      "execution_count": 14,
      "outputs": [
        {
          "output_type": "stream",
          "text": [
            "Number of Prescriptions    49487382\n",
            "Package Size                3446039\n",
            "dtype: int64\n"
          ],
          "name": "stdout"
        }
      ]
    },
    {
      "cell_type": "code",
      "metadata": {
        "id": "dZjl_r3l8GBD",
        "outputId": "04fa3b98-6200-42ab-bbd2-2699d7ae1049",
        "colab": {
          "base_uri": "https://localhost:8080/"
        }
      },
      "source": [
        "def rng(vec):\n",
        "  high = max(vec)\n",
        "  low = min(vec)\n",
        "  return high - low\n",
        "\n",
        "range = scrips.apply(rng)\n",
        "print(range)"
      ],
      "execution_count": 15,
      "outputs": [
        {
          "output_type": "stream",
          "text": [
            "Number of Prescriptions    389126\n",
            "Package Size                   99\n",
            "dtype: int64\n"
          ],
          "name": "stdout"
        }
      ]
    },
    {
      "cell_type": "code",
      "metadata": {
        "id": "TOElT5WlARVv"
      },
      "source": [
        "def med(vec):\n",
        "  return vec.median()"
      ],
      "execution_count": 16,
      "outputs": []
    },
    {
      "cell_type": "code",
      "metadata": {
        "id": "_IoxsoNpAVA4",
        "outputId": "fe2136d9-d267-42e2-c65a-10a792f50fa7",
        "colab": {
          "base_uri": "https://localhost:8080/"
        }
      },
      "source": [
        "mdnn = scrips.apply(med)\n",
        "print(mdnn)"
      ],
      "execution_count": 17,
      "outputs": [
        {
          "output_type": "stream",
          "text": [
            "Number of Prescriptions    13.0\n",
            "Package Size               10.0\n",
            "dtype: float64\n"
          ],
          "name": "stdout"
        }
      ]
    },
    {
      "cell_type": "code",
      "metadata": {
        "id": "tjknJu_mAd9W",
        "outputId": "c82efd22-749f-4bf5-c34d-3efe36f62565",
        "colab": {
          "base_uri": "https://localhost:8080/"
        }
      },
      "source": [
        "def mod(vec):\n",
        "  return vec.mode()\n",
        "\n",
        "mde = scrips.apply(mod)\n",
        "print(mde)"
      ],
      "execution_count": 18,
      "outputs": [
        {
          "output_type": "stream",
          "text": [
            "   Number of Prescriptions  Package Size\n",
            "0                        1             1\n"
          ],
          "name": "stdout"
        }
      ]
    }
  ]
}