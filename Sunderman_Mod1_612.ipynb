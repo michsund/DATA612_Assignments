{
  "nbformat": 4,
  "nbformat_minor": 0,
  "metadata": {
    "colab": {
      "name": "Sunderman_Mod1_612.ipynb",
      "provenance": [],
      "collapsed_sections": [],
      "toc_visible": true,
      "include_colab_link": true
    },
    "kernelspec": {
      "name": "python3",
      "display_name": "Python 3"
    }
  },
  "cells": [
    {
      "cell_type": "markdown",
      "metadata": {
        "id": "view-in-github",
        "colab_type": "text"
      },
      "source": [
        "<a href=\"https://colab.research.google.com/github/michsund/DATA612_Assignments/blob/main/Sunderman_Mod1_612.ipynb\" target=\"_parent\"><img src=\"https://colab.research.google.com/assets/colab-badge.svg\" alt=\"Open In Colab\"/></a>"
      ]
    },
    {
      "cell_type": "markdown",
      "metadata": {
        "id": "AfEUM8RW3Njt"
      },
      "source": [
        "# Assignment for Week 1    \n"
      ]
    },
    {
      "cell_type": "markdown",
      "metadata": {
        "id": "uXfHJZ0D3K8p"
      },
      "source": [
        "## Purpose:      \n",
        "This assignment is intended to help you do the following:       \n",
        "1.\tOpen a GitHub account for your own use and for your career advancement (if you already do not have one).     \n",
        "2.\tSubmit information and code in GitHub following best practices from the Udacity course.     \n",
        "3.\tExplore a dataset thoroughly.      \n",
        "4.\tFind and print descriptive information from the dataset.        \n"
      ]
    },
    {
      "cell_type": "markdown",
      "metadata": {
        "id": "DpWCrf_Q4OV3"
      },
      "source": [
        "## Action Items:           \n",
        "Open a GitHub account to submit your work. If you are new to GitHub, follow the videos and instructions on the following link to understand how to post things on GitHub and start your own account. https://blog.udacity.com/2015/06/a-beginners-git-github-tutorial.html and/or https://guides.github.com/activities/hello-world/     \n",
        "\n",
        "1.   Select the dataset of your choice from the list \n",
        "provided <a href=\"https://github.com/frankData612/data_612\">here.</a>   \n",
        "2.   Load the dataset using Jupyter notebook and explore the data by using the following.\n",
        "\n",
        "\n",
        "-\tShow the .head() and .tail() of the data set. Specify the number of rows to print using .head() and .tail().      \n",
        "-\tPrint the column names.      \n",
        "-\tPrint to see what is the type of your data set    \n",
        "-\tCheck number of rows and columns.\n",
        "-\tUse groupby() and find the mean on your selected colum/s.\n",
        "-\tAdd a README file in GitHub where you explain everything you did.\n"
      ]
    },
    {
      "cell_type": "code",
      "metadata": {
        "id": "ZLZR60w1Oa7g"
      },
      "source": [
        "import pandas as pd"
      ],
      "execution_count": 1,
      "outputs": []
    },
    {
      "cell_type": "code",
      "metadata": {
        "id": "gc3ehZisOdDh"
      },
      "source": [
        "df = pd.read_csv('https://raw.githubusercontent.com/frankData612/data_612/master/State_Drug_Utilization_Data_2010/State_Drug_Utilization_Data_2010.csv')"
      ],
      "execution_count": 2,
      "outputs": []
    },
    {
      "cell_type": "code",
      "metadata": {
        "id": "GKuNvbhROpIV",
        "outputId": "75334c97-e5fd-4799-cab8-2d49b550a931",
        "colab": {
          "base_uri": "https://localhost:8080/",
          "height": 433
        }
      },
      "source": [
        "df.head(8)"
      ],
      "execution_count": 5,
      "outputs": [
        {
          "output_type": "execute_result",
          "data": {
            "text/html": [
              "<div>\n",
              "<style scoped>\n",
              "    .dataframe tbody tr th:only-of-type {\n",
              "        vertical-align: middle;\n",
              "    }\n",
              "\n",
              "    .dataframe tbody tr th {\n",
              "        vertical-align: top;\n",
              "    }\n",
              "\n",
              "    .dataframe thead th {\n",
              "        text-align: right;\n",
              "    }\n",
              "</style>\n",
              "<table border=\"1\" class=\"dataframe\">\n",
              "  <thead>\n",
              "    <tr style=\"text-align: right;\">\n",
              "      <th></th>\n",
              "      <th>Unnamed: 0</th>\n",
              "      <th>Utilization Type</th>\n",
              "      <th>State</th>\n",
              "      <th>Labeler Code</th>\n",
              "      <th>Product Code</th>\n",
              "      <th>Package Size</th>\n",
              "      <th>Year</th>\n",
              "      <th>Quarter</th>\n",
              "      <th>Product Name</th>\n",
              "      <th>Units Reimbursed</th>\n",
              "      <th>Suppression Used</th>\n",
              "      <th>Number of Prescriptions</th>\n",
              "      <th>Total Amount Reimbursed</th>\n",
              "      <th>Medicaid Amount Reimbursed</th>\n",
              "      <th>Non Medicaid Amount Reimbursed</th>\n",
              "      <th>Quarter Begin</th>\n",
              "      <th>Quarter Begin Date</th>\n",
              "      <th>Latitude</th>\n",
              "      <th>Longitude</th>\n",
              "      <th>Location</th>\n",
              "      <th>NDC</th>\n",
              "    </tr>\n",
              "  </thead>\n",
              "  <tbody>\n",
              "    <tr>\n",
              "      <th>0</th>\n",
              "      <td>128037</td>\n",
              "      <td>MCOU</td>\n",
              "      <td>MA</td>\n",
              "      <td>37205</td>\n",
              "      <td>137</td>\n",
              "      <td>5</td>\n",
              "      <td>2010</td>\n",
              "      <td>4</td>\n",
              "      <td>ARTIFICIAL</td>\n",
              "      <td>15.000</td>\n",
              "      <td>False</td>\n",
              "      <td>1</td>\n",
              "      <td>4.08</td>\n",
              "      <td>4.08</td>\n",
              "      <td>0.00</td>\n",
              "      <td>10/1</td>\n",
              "      <td>10/01/2010</td>\n",
              "      <td>31.1801</td>\n",
              "      <td>-91.8749</td>\n",
              "      <td>(31.1801, -91.8749)</td>\n",
              "      <td>37205013705</td>\n",
              "    </tr>\n",
              "    <tr>\n",
              "      <th>1</th>\n",
              "      <td>491755</td>\n",
              "      <td>FFSU</td>\n",
              "      <td>FL</td>\n",
              "      <td>62756</td>\n",
              "      <td>763</td>\n",
              "      <td>88</td>\n",
              "      <td>2010</td>\n",
              "      <td>1</td>\n",
              "      <td>TORSEMIDE</td>\n",
              "      <td>255.000</td>\n",
              "      <td>False</td>\n",
              "      <td>8</td>\n",
              "      <td>103.33</td>\n",
              "      <td>103.33</td>\n",
              "      <td>0.00</td>\n",
              "      <td>1/1</td>\n",
              "      <td>01/01/2010</td>\n",
              "      <td>39.3498</td>\n",
              "      <td>-75.5148</td>\n",
              "      <td>(39.3498, -75.5148)</td>\n",
              "      <td>62756076388</td>\n",
              "    </tr>\n",
              "    <tr>\n",
              "      <th>2</th>\n",
              "      <td>2568076</td>\n",
              "      <td>FFSU</td>\n",
              "      <td>UT</td>\n",
              "      <td>46987</td>\n",
              "      <td>323</td>\n",
              "      <td>11</td>\n",
              "      <td>2010</td>\n",
              "      <td>2</td>\n",
              "      <td>Kadian Ora</td>\n",
              "      <td>120.000</td>\n",
              "      <td>False</td>\n",
              "      <td>2</td>\n",
              "      <td>905.24</td>\n",
              "      <td>905.24</td>\n",
              "      <td>0.00</td>\n",
              "      <td>4/1</td>\n",
              "      <td>04/01/2010</td>\n",
              "      <td>44.2853</td>\n",
              "      <td>-99.4632</td>\n",
              "      <td>(44.2853, -99.4632)</td>\n",
              "      <td>46987032311</td>\n",
              "    </tr>\n",
              "    <tr>\n",
              "      <th>3</th>\n",
              "      <td>491263</td>\n",
              "      <td>FFSU</td>\n",
              "      <td>MN</td>\n",
              "      <td>781</td>\n",
              "      <td>5185</td>\n",
              "      <td>1</td>\n",
              "      <td>2010</td>\n",
              "      <td>4</td>\n",
              "      <td>LEVOTHYROX</td>\n",
              "      <td>1114.000</td>\n",
              "      <td>False</td>\n",
              "      <td>34</td>\n",
              "      <td>312.22</td>\n",
              "      <td>306.22</td>\n",
              "      <td>6.00</td>\n",
              "      <td>10/1</td>\n",
              "      <td>10/01/2010</td>\n",
              "      <td>43.3504</td>\n",
              "      <td>-84.5603</td>\n",
              "      <td>(43.3504, -84.5603)</td>\n",
              "      <td>781518501</td>\n",
              "    </tr>\n",
              "    <tr>\n",
              "      <th>4</th>\n",
              "      <td>836489</td>\n",
              "      <td>FFSU</td>\n",
              "      <td>XX</td>\n",
              "      <td>51552</td>\n",
              "      <td>809</td>\n",
              "      <td>6</td>\n",
              "      <td>2010</td>\n",
              "      <td>2</td>\n",
              "      <td>COLD CREAM</td>\n",
              "      <td>226.089</td>\n",
              "      <td>False</td>\n",
              "      <td>7</td>\n",
              "      <td>52.87</td>\n",
              "      <td>52.87</td>\n",
              "      <td>0.00</td>\n",
              "      <td>4/1</td>\n",
              "      <td>04/01/2010</td>\n",
              "      <td>NaN</td>\n",
              "      <td>NaN</td>\n",
              "      <td>NaN</td>\n",
              "      <td>51552080906</td>\n",
              "    </tr>\n",
              "    <tr>\n",
              "      <th>5</th>\n",
              "      <td>2468555</td>\n",
              "      <td>FFSU</td>\n",
              "      <td>WI</td>\n",
              "      <td>143</td>\n",
              "      <td>1785</td>\n",
              "      <td>1</td>\n",
              "      <td>2010</td>\n",
              "      <td>3</td>\n",
              "      <td>BUTALBITAL</td>\n",
              "      <td>5138.000</td>\n",
              "      <td>False</td>\n",
              "      <td>82</td>\n",
              "      <td>1071.43</td>\n",
              "      <td>951.92</td>\n",
              "      <td>119.51</td>\n",
              "      <td>7/1</td>\n",
              "      <td>07/01/2010</td>\n",
              "      <td>37.7680</td>\n",
              "      <td>-78.2057</td>\n",
              "      <td>(37.768, -78.2057)</td>\n",
              "      <td>143178501</td>\n",
              "    </tr>\n",
              "    <tr>\n",
              "      <th>6</th>\n",
              "      <td>73349</td>\n",
              "      <td>FFSU</td>\n",
              "      <td>WI</td>\n",
              "      <td>45802</td>\n",
              "      <td>257</td>\n",
              "      <td>42</td>\n",
              "      <td>2010</td>\n",
              "      <td>1</td>\n",
              "      <td>MOMETASONE</td>\n",
              "      <td>12030.000</td>\n",
              "      <td>False</td>\n",
              "      <td>92</td>\n",
              "      <td>2527.49</td>\n",
              "      <td>2352.86</td>\n",
              "      <td>174.63</td>\n",
              "      <td>1/1</td>\n",
              "      <td>01/01/2010</td>\n",
              "      <td>37.7680</td>\n",
              "      <td>-78.2057</td>\n",
              "      <td>(37.768, -78.2057)</td>\n",
              "      <td>45802025742</td>\n",
              "    </tr>\n",
              "    <tr>\n",
              "      <th>7</th>\n",
              "      <td>1166159</td>\n",
              "      <td>FFSU</td>\n",
              "      <td>MI</td>\n",
              "      <td>527</td>\n",
              "      <td>586</td>\n",
              "      <td>10</td>\n",
              "      <td>2010</td>\n",
              "      <td>2</td>\n",
              "      <td>DICYCLOMIN</td>\n",
              "      <td>120.000</td>\n",
              "      <td>False</td>\n",
              "      <td>3</td>\n",
              "      <td>14.43</td>\n",
              "      <td>14.43</td>\n",
              "      <td>0.00</td>\n",
              "      <td>4/1</td>\n",
              "      <td>04/01/2010</td>\n",
              "      <td>44.6074</td>\n",
              "      <td>-69.3977</td>\n",
              "      <td>(44.6074, -69.3977)</td>\n",
              "      <td>527058610</td>\n",
              "    </tr>\n",
              "  </tbody>\n",
              "</table>\n",
              "</div>"
            ],
            "text/plain": [
              "   Unnamed: 0 Utilization Type  ...             Location          NDC\n",
              "0      128037             MCOU  ...  (31.1801, -91.8749)  37205013705\n",
              "1      491755             FFSU  ...  (39.3498, -75.5148)  62756076388\n",
              "2     2568076             FFSU  ...  (44.2853, -99.4632)  46987032311\n",
              "3      491263             FFSU  ...  (43.3504, -84.5603)    781518501\n",
              "4      836489             FFSU  ...                  NaN  51552080906\n",
              "5     2468555             FFSU  ...   (37.768, -78.2057)    143178501\n",
              "6       73349             FFSU  ...   (37.768, -78.2057)  45802025742\n",
              "7     1166159             FFSU  ...  (44.6074, -69.3977)    527058610\n",
              "\n",
              "[8 rows x 21 columns]"
            ]
          },
          "metadata": {
            "tags": []
          },
          "execution_count": 5
        }
      ]
    },
    {
      "cell_type": "code",
      "metadata": {
        "id": "9E8It89NOsL8",
        "outputId": "6d2b3474-bb8f-4474-c4e3-a428da0edfe8",
        "colab": {
          "base_uri": "https://localhost:8080/",
          "height": 289
        }
      },
      "source": [
        "df.tail(5)"
      ],
      "execution_count": 4,
      "outputs": [
        {
          "output_type": "execute_result",
          "data": {
            "text/html": [
              "<div>\n",
              "<style scoped>\n",
              "    .dataframe tbody tr th:only-of-type {\n",
              "        vertical-align: middle;\n",
              "    }\n",
              "\n",
              "    .dataframe tbody tr th {\n",
              "        vertical-align: top;\n",
              "    }\n",
              "\n",
              "    .dataframe thead th {\n",
              "        text-align: right;\n",
              "    }\n",
              "</style>\n",
              "<table border=\"1\" class=\"dataframe\">\n",
              "  <thead>\n",
              "    <tr style=\"text-align: right;\">\n",
              "      <th></th>\n",
              "      <th>Unnamed: 0</th>\n",
              "      <th>Utilization Type</th>\n",
              "      <th>State</th>\n",
              "      <th>Labeler Code</th>\n",
              "      <th>Product Code</th>\n",
              "      <th>Package Size</th>\n",
              "      <th>Year</th>\n",
              "      <th>Quarter</th>\n",
              "      <th>Product Name</th>\n",
              "      <th>Units Reimbursed</th>\n",
              "      <th>Suppression Used</th>\n",
              "      <th>Number of Prescriptions</th>\n",
              "      <th>Total Amount Reimbursed</th>\n",
              "      <th>Medicaid Amount Reimbursed</th>\n",
              "      <th>Non Medicaid Amount Reimbursed</th>\n",
              "      <th>Quarter Begin</th>\n",
              "      <th>Quarter Begin Date</th>\n",
              "      <th>Latitude</th>\n",
              "      <th>Longitude</th>\n",
              "      <th>Location</th>\n",
              "      <th>NDC</th>\n",
              "    </tr>\n",
              "  </thead>\n",
              "  <tbody>\n",
              "    <tr>\n",
              "      <th>156215</th>\n",
              "      <td>2752214</td>\n",
              "      <td>MCOU</td>\n",
              "      <td>XX</td>\n",
              "      <td>63868</td>\n",
              "      <td>17</td>\n",
              "      <td>1</td>\n",
              "      <td>2010</td>\n",
              "      <td>2</td>\n",
              "      <td>QC DOCUSAT</td>\n",
              "      <td>540.0</td>\n",
              "      <td>False</td>\n",
              "      <td>10</td>\n",
              "      <td>41.15</td>\n",
              "      <td>41.15</td>\n",
              "      <td>0.00</td>\n",
              "      <td>4/1</td>\n",
              "      <td>04/01/2010</td>\n",
              "      <td>NaN</td>\n",
              "      <td>NaN</td>\n",
              "      <td>NaN</td>\n",
              "      <td>63868001701</td>\n",
              "    </tr>\n",
              "    <tr>\n",
              "      <th>156216</th>\n",
              "      <td>2519195</td>\n",
              "      <td>MCOU</td>\n",
              "      <td>MI</td>\n",
              "      <td>121</td>\n",
              "      <td>489</td>\n",
              "      <td>10</td>\n",
              "      <td>2010</td>\n",
              "      <td>4</td>\n",
              "      <td>DIPHENHYDR</td>\n",
              "      <td>1970.0</td>\n",
              "      <td>False</td>\n",
              "      <td>12</td>\n",
              "      <td>16.48</td>\n",
              "      <td>16.48</td>\n",
              "      <td>0.00</td>\n",
              "      <td>10/1</td>\n",
              "      <td>10/01/2010</td>\n",
              "      <td>44.6074</td>\n",
              "      <td>-69.3977</td>\n",
              "      <td>(44.6074, -69.3977)</td>\n",
              "      <td>121048910</td>\n",
              "    </tr>\n",
              "    <tr>\n",
              "      <th>156217</th>\n",
              "      <td>815768</td>\n",
              "      <td>MCOU</td>\n",
              "      <td>MD</td>\n",
              "      <td>60432</td>\n",
              "      <td>133</td>\n",
              "      <td>25</td>\n",
              "      <td>2010</td>\n",
              "      <td>4</td>\n",
              "      <td>CLOBETASOL</td>\n",
              "      <td>75.0</td>\n",
              "      <td>False</td>\n",
              "      <td>3</td>\n",
              "      <td>32.24</td>\n",
              "      <td>30.24</td>\n",
              "      <td>2.00</td>\n",
              "      <td>10/1</td>\n",
              "      <td>10/01/2010</td>\n",
              "      <td>42.2373</td>\n",
              "      <td>-71.5314</td>\n",
              "      <td>(42.2373, -71.5314)</td>\n",
              "      <td>60432013325</td>\n",
              "    </tr>\n",
              "    <tr>\n",
              "      <th>156218</th>\n",
              "      <td>2029158</td>\n",
              "      <td>FFSU</td>\n",
              "      <td>DE</td>\n",
              "      <td>88</td>\n",
              "      <td>1109</td>\n",
              "      <td>47</td>\n",
              "      <td>2010</td>\n",
              "      <td>4</td>\n",
              "      <td>ALLEGRA (F</td>\n",
              "      <td>60.0</td>\n",
              "      <td>False</td>\n",
              "      <td>2</td>\n",
              "      <td>152.68</td>\n",
              "      <td>146.68</td>\n",
              "      <td>6.00</td>\n",
              "      <td>10/1</td>\n",
              "      <td>10/01/2010</td>\n",
              "      <td>38.8964</td>\n",
              "      <td>-77.0262</td>\n",
              "      <td>(38.8964, -77.0262)</td>\n",
              "      <td>88110947</td>\n",
              "    </tr>\n",
              "    <tr>\n",
              "      <th>156219</th>\n",
              "      <td>2799238</td>\n",
              "      <td>FFSU</td>\n",
              "      <td>DE</td>\n",
              "      <td>29</td>\n",
              "      <td>1527</td>\n",
              "      <td>25</td>\n",
              "      <td>2010</td>\n",
              "      <td>1</td>\n",
              "      <td>BACTROBAN(</td>\n",
              "      <td>360.0</td>\n",
              "      <td>False</td>\n",
              "      <td>12</td>\n",
              "      <td>896.33</td>\n",
              "      <td>705.82</td>\n",
              "      <td>190.51</td>\n",
              "      <td>1/1</td>\n",
              "      <td>01/01/2010</td>\n",
              "      <td>38.8964</td>\n",
              "      <td>-77.0262</td>\n",
              "      <td>(38.8964, -77.0262)</td>\n",
              "      <td>29152725</td>\n",
              "    </tr>\n",
              "  </tbody>\n",
              "</table>\n",
              "</div>"
            ],
            "text/plain": [
              "        Unnamed: 0 Utilization Type  ...             Location          NDC\n",
              "156215     2752214             MCOU  ...                  NaN  63868001701\n",
              "156216     2519195             MCOU  ...  (44.6074, -69.3977)    121048910\n",
              "156217      815768             MCOU  ...  (42.2373, -71.5314)  60432013325\n",
              "156218     2029158             FFSU  ...  (38.8964, -77.0262)     88110947\n",
              "156219     2799238             FFSU  ...  (38.8964, -77.0262)     29152725\n",
              "\n",
              "[5 rows x 21 columns]"
            ]
          },
          "metadata": {
            "tags": []
          },
          "execution_count": 4
        }
      ]
    },
    {
      "cell_type": "code",
      "metadata": {
        "id": "0dOV7RnAO0xH",
        "outputId": "a811d5b1-1eda-4fe3-ee24-d880f595f644",
        "colab": {
          "base_uri": "https://localhost:8080/",
          "height": 136
        }
      },
      "source": [
        "df.columns"
      ],
      "execution_count": 6,
      "outputs": [
        {
          "output_type": "execute_result",
          "data": {
            "text/plain": [
              "Index(['Unnamed: 0', 'Utilization Type', 'State', 'Labeler Code',\n",
              "       'Product Code', 'Package Size', 'Year', 'Quarter', 'Product Name',\n",
              "       'Units Reimbursed', 'Suppression Used', 'Number of Prescriptions',\n",
              "       'Total Amount Reimbursed', 'Medicaid Amount Reimbursed',\n",
              "       'Non Medicaid Amount Reimbursed', 'Quarter Begin', 'Quarter Begin Date',\n",
              "       'Latitude', 'Longitude', 'Location', 'NDC'],\n",
              "      dtype='object')"
            ]
          },
          "metadata": {
            "tags": []
          },
          "execution_count": 6
        }
      ]
    },
    {
      "cell_type": "code",
      "metadata": {
        "id": "DXVmVB7eO422",
        "outputId": "da508587-1d6a-42e5-aee9-6593e3d32781",
        "colab": {
          "base_uri": "https://localhost:8080/",
          "height": 34
        }
      },
      "source": [
        "type(df)"
      ],
      "execution_count": 9,
      "outputs": [
        {
          "output_type": "execute_result",
          "data": {
            "text/plain": [
              "pandas.core.frame.DataFrame"
            ]
          },
          "metadata": {
            "tags": []
          },
          "execution_count": 9
        }
      ]
    },
    {
      "cell_type": "code",
      "metadata": {
        "id": "vGGJJChbPAWo",
        "outputId": "54f69783-86d9-423e-b24d-1d35fa6639ef",
        "colab": {
          "base_uri": "https://localhost:8080/",
          "height": 34
        }
      },
      "source": [
        "df.shape"
      ],
      "execution_count": 10,
      "outputs": [
        {
          "output_type": "execute_result",
          "data": {
            "text/plain": [
              "(156220, 21)"
            ]
          },
          "metadata": {
            "tags": []
          },
          "execution_count": 10
        }
      ]
    },
    {
      "cell_type": "code",
      "metadata": {
        "id": "uJw5lAqTPV6F",
        "outputId": "9bf57f1b-95f4-421e-f822-8c0bbf36d3e2",
        "colab": {
          "base_uri": "https://localhost:8080/",
          "height": 935
        }
      },
      "source": [
        "df.groupby('State')['Number of Prescriptions'].mean()"
      ],
      "execution_count": 19,
      "outputs": [
        {
          "output_type": "execute_result",
          "data": {
            "text/plain": [
              "State\n",
              "AK      29.119737\n",
              "AL     157.579931\n",
              "AR     111.283124\n",
              "AZ     127.001769\n",
              "CA     375.519322\n",
              "CO      80.875000\n",
              "CT     116.824053\n",
              "DC      34.203146\n",
              "DE      55.308199\n",
              "FL     200.417330\n",
              "GA     206.223196\n",
              "HI      75.785784\n",
              "IA      99.471346\n",
              "ID      48.712156\n",
              "IL     380.208102\n",
              "IN     179.613321\n",
              "KS      46.513686\n",
              "KY     130.048473\n",
              "LA     221.485499\n",
              "MA     203.971945\n",
              "MD      77.719033\n",
              "ME      88.792571\n",
              "MI     145.902327\n",
              "MN      71.900102\n",
              "MO     225.037850\n",
              "MS     107.818493\n",
              "MT      25.811543\n",
              "NC     272.866933\n",
              "ND      22.484375\n",
              "NE      60.541899\n",
              "NH      39.679090\n",
              "NJ      85.264864\n",
              "NM      85.002801\n",
              "NV      35.759056\n",
              "NY     826.832355\n",
              "OH     476.512353\n",
              "OK     120.092398\n",
              "OR      68.720535\n",
              "PA     155.683013\n",
              "RI      25.979100\n",
              "SC      66.271042\n",
              "SD      24.370053\n",
              "TN     200.465423\n",
              "TX     664.153526\n",
              "UT      63.815881\n",
              "VA     116.293279\n",
              "VT      41.332192\n",
              "WA     109.811250\n",
              "WI     211.407905\n",
              "WV     136.927561\n",
              "WY      20.690031\n",
              "XX    2317.873565\n",
              "Name: Number of Prescriptions, dtype: float64"
            ]
          },
          "metadata": {
            "tags": []
          },
          "execution_count": 19
        }
      ]
    }
  ]
}