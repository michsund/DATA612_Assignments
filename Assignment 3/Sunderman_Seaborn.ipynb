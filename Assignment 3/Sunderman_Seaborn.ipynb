{
  "nbformat": 4,
  "nbformat_minor": 0,
  "metadata": {
    "colab": {
      "name": "Sunderman_Seaborn.ipynb",
      "provenance": [],
      "collapsed_sections": [],
      "include_colab_link": true
    },
    "kernelspec": {
      "name": "python3",
      "display_name": "Python 3"
    }
  },
  "cells": [
    {
      "cell_type": "markdown",
      "metadata": {
        "id": "view-in-github",
        "colab_type": "text"
      },
      "source": [
        "<a href=\"https://colab.research.google.com/github/michsund/DATA612_Assignments/blob/main/Sunderman_Seaborn.ipynb\" target=\"_parent\"><img src=\"https://colab.research.google.com/assets/colab-badge.svg\" alt=\"Open In Colab\"/></a>"
      ]
    },
    {
      "cell_type": "markdown",
      "metadata": {
        "id": "69a5oj6QD5sZ"
      },
      "source": [
        "# Assignment for Week 3"
      ]
    },
    {
      "cell_type": "markdown",
      "metadata": {
        "id": "8IZXIH6-D9Qj"
      },
      "source": [
        "## Purpose:\n",
        "This assignment is intended to help you do the following:\n",
        "1.\tBecome familiar with the Seaborn package\n",
        "2.\tLearn to visualize data using Seaborn\n",
        "3.\tDistinguish between various charts and when to utilize them\n"
      ]
    },
    {
      "cell_type": "markdown",
      "metadata": {
        "id": "Yg7ArX6SEtQ6"
      },
      "source": [
        "## Action Items:\n",
        "•\tCreate three different charts using Seaborn package.   \n",
        "  1. Create three different meaningful charts using Seaborn package on your selected data set.      \n",
        "  2. Explain when it is best to use      \n",
        "  3. Post your work in GitHub     \n",
        "  4. Add a README file     \n"
      ]
    },
    {
      "cell_type": "code",
      "metadata": {
        "id": "SnhnAvCkLANJ"
      },
      "source": [
        "import pandas as pd\n",
        "import seaborn as sns\n",
        "import matplotlib.pyplot as plt"
      ],
      "execution_count": 1,
      "outputs": []
    },
    {
      "cell_type": "code",
      "metadata": {
        "id": "gc3ehZisOdDh"
      },
      "source": [
        "df = pd.read_csv('https://raw.githubusercontent.com/frankData612/data_612/master/State_Drug_Utilization_Data_2010/State_Drug_Utilization_Data_2010.csv')"
      ],
      "execution_count": 2,
      "outputs": []
    },
    {
      "cell_type": "code",
      "metadata": {
        "colab": {
          "base_uri": "https://localhost:8080/",
          "height": 343
        },
        "id": "T9acs57pLKb4",
        "outputId": "e196674a-16c0-43e0-896b-27b893bcf089"
      },
      "source": [
        "df.head()"
      ],
      "execution_count": 3,
      "outputs": [
        {
          "output_type": "execute_result",
          "data": {
            "text/html": [
              "<div>\n",
              "<style scoped>\n",
              "    .dataframe tbody tr th:only-of-type {\n",
              "        vertical-align: middle;\n",
              "    }\n",
              "\n",
              "    .dataframe tbody tr th {\n",
              "        vertical-align: top;\n",
              "    }\n",
              "\n",
              "    .dataframe thead th {\n",
              "        text-align: right;\n",
              "    }\n",
              "</style>\n",
              "<table border=\"1\" class=\"dataframe\">\n",
              "  <thead>\n",
              "    <tr style=\"text-align: right;\">\n",
              "      <th></th>\n",
              "      <th>Unnamed: 0</th>\n",
              "      <th>Utilization Type</th>\n",
              "      <th>State</th>\n",
              "      <th>Labeler Code</th>\n",
              "      <th>Product Code</th>\n",
              "      <th>Package Size</th>\n",
              "      <th>Year</th>\n",
              "      <th>Quarter</th>\n",
              "      <th>Product Name</th>\n",
              "      <th>Units Reimbursed</th>\n",
              "      <th>Suppression Used</th>\n",
              "      <th>Number of Prescriptions</th>\n",
              "      <th>Total Amount Reimbursed</th>\n",
              "      <th>Medicaid Amount Reimbursed</th>\n",
              "      <th>Non Medicaid Amount Reimbursed</th>\n",
              "      <th>Quarter Begin</th>\n",
              "      <th>Quarter Begin Date</th>\n",
              "      <th>Latitude</th>\n",
              "      <th>Longitude</th>\n",
              "      <th>Location</th>\n",
              "      <th>NDC</th>\n",
              "    </tr>\n",
              "  </thead>\n",
              "  <tbody>\n",
              "    <tr>\n",
              "      <th>0</th>\n",
              "      <td>128037</td>\n",
              "      <td>MCOU</td>\n",
              "      <td>MA</td>\n",
              "      <td>37205</td>\n",
              "      <td>137</td>\n",
              "      <td>5</td>\n",
              "      <td>2010</td>\n",
              "      <td>4</td>\n",
              "      <td>ARTIFICIAL</td>\n",
              "      <td>15.000</td>\n",
              "      <td>False</td>\n",
              "      <td>1</td>\n",
              "      <td>4.08</td>\n",
              "      <td>4.08</td>\n",
              "      <td>0.0</td>\n",
              "      <td>10/1</td>\n",
              "      <td>10/01/2010</td>\n",
              "      <td>31.1801</td>\n",
              "      <td>-91.8749</td>\n",
              "      <td>(31.1801, -91.8749)</td>\n",
              "      <td>37205013705</td>\n",
              "    </tr>\n",
              "    <tr>\n",
              "      <th>1</th>\n",
              "      <td>491755</td>\n",
              "      <td>FFSU</td>\n",
              "      <td>FL</td>\n",
              "      <td>62756</td>\n",
              "      <td>763</td>\n",
              "      <td>88</td>\n",
              "      <td>2010</td>\n",
              "      <td>1</td>\n",
              "      <td>TORSEMIDE</td>\n",
              "      <td>255.000</td>\n",
              "      <td>False</td>\n",
              "      <td>8</td>\n",
              "      <td>103.33</td>\n",
              "      <td>103.33</td>\n",
              "      <td>0.0</td>\n",
              "      <td>1/1</td>\n",
              "      <td>01/01/2010</td>\n",
              "      <td>39.3498</td>\n",
              "      <td>-75.5148</td>\n",
              "      <td>(39.3498, -75.5148)</td>\n",
              "      <td>62756076388</td>\n",
              "    </tr>\n",
              "    <tr>\n",
              "      <th>2</th>\n",
              "      <td>2568076</td>\n",
              "      <td>FFSU</td>\n",
              "      <td>UT</td>\n",
              "      <td>46987</td>\n",
              "      <td>323</td>\n",
              "      <td>11</td>\n",
              "      <td>2010</td>\n",
              "      <td>2</td>\n",
              "      <td>Kadian Ora</td>\n",
              "      <td>120.000</td>\n",
              "      <td>False</td>\n",
              "      <td>2</td>\n",
              "      <td>905.24</td>\n",
              "      <td>905.24</td>\n",
              "      <td>0.0</td>\n",
              "      <td>4/1</td>\n",
              "      <td>04/01/2010</td>\n",
              "      <td>44.2853</td>\n",
              "      <td>-99.4632</td>\n",
              "      <td>(44.2853, -99.4632)</td>\n",
              "      <td>46987032311</td>\n",
              "    </tr>\n",
              "    <tr>\n",
              "      <th>3</th>\n",
              "      <td>491263</td>\n",
              "      <td>FFSU</td>\n",
              "      <td>MN</td>\n",
              "      <td>781</td>\n",
              "      <td>5185</td>\n",
              "      <td>1</td>\n",
              "      <td>2010</td>\n",
              "      <td>4</td>\n",
              "      <td>LEVOTHYROX</td>\n",
              "      <td>1114.000</td>\n",
              "      <td>False</td>\n",
              "      <td>34</td>\n",
              "      <td>312.22</td>\n",
              "      <td>306.22</td>\n",
              "      <td>6.0</td>\n",
              "      <td>10/1</td>\n",
              "      <td>10/01/2010</td>\n",
              "      <td>43.3504</td>\n",
              "      <td>-84.5603</td>\n",
              "      <td>(43.3504, -84.5603)</td>\n",
              "      <td>781518501</td>\n",
              "    </tr>\n",
              "    <tr>\n",
              "      <th>4</th>\n",
              "      <td>836489</td>\n",
              "      <td>FFSU</td>\n",
              "      <td>XX</td>\n",
              "      <td>51552</td>\n",
              "      <td>809</td>\n",
              "      <td>6</td>\n",
              "      <td>2010</td>\n",
              "      <td>2</td>\n",
              "      <td>COLD CREAM</td>\n",
              "      <td>226.089</td>\n",
              "      <td>False</td>\n",
              "      <td>7</td>\n",
              "      <td>52.87</td>\n",
              "      <td>52.87</td>\n",
              "      <td>0.0</td>\n",
              "      <td>4/1</td>\n",
              "      <td>04/01/2010</td>\n",
              "      <td>NaN</td>\n",
              "      <td>NaN</td>\n",
              "      <td>NaN</td>\n",
              "      <td>51552080906</td>\n",
              "    </tr>\n",
              "  </tbody>\n",
              "</table>\n",
              "</div>"
            ],
            "text/plain": [
              "   Unnamed: 0 Utilization Type  ...             Location          NDC\n",
              "0      128037             MCOU  ...  (31.1801, -91.8749)  37205013705\n",
              "1      491755             FFSU  ...  (39.3498, -75.5148)  62756076388\n",
              "2     2568076             FFSU  ...  (44.2853, -99.4632)  46987032311\n",
              "3      491263             FFSU  ...  (43.3504, -84.5603)    781518501\n",
              "4      836489             FFSU  ...                  NaN  51552080906\n",
              "\n",
              "[5 rows x 21 columns]"
            ]
          },
          "metadata": {
            "tags": []
          },
          "execution_count": 3
        }
      ]
    },
    {
      "cell_type": "code",
      "metadata": {
        "colab": {
          "base_uri": "https://localhost:8080/"
        },
        "id": "L0lMlmJdMDbZ",
        "outputId": "c31ec491-9af5-4772-b62c-0a30842886c3"
      },
      "source": [
        "for col in df:\n",
        "    print(df[col].nunique())"
      ],
      "execution_count": 4,
      "outputs": [
        {
          "output_type": "stream",
          "text": [
            "152281\n",
            "2\n",
            "52\n",
            "572\n",
            "5192\n",
            "100\n",
            "1\n",
            "4\n",
            "10190\n",
            "31845\n",
            "1\n",
            "4629\n",
            "96452\n",
            "95242\n",
            "24091\n",
            "4\n",
            "4\n",
            "51\n",
            "51\n",
            "51\n",
            "27376\n"
          ],
          "name": "stdout"
        }
      ]
    },
    {
      "cell_type": "code",
      "metadata": {
        "colab": {
          "base_uri": "https://localhost:8080/",
          "height": 295
        },
        "id": "gztque_qkcTt",
        "outputId": "a1146c1b-c32d-4fc1-b1c8-00dcb74358ba"
      },
      "source": [
        "scatter, ax = plt.subplots()\n",
        "\n",
        "ax = sns.regplot(x='Total Amount Reimbursed', y ='Non Medicaid Amount Reimbursed', data=df)\n",
        "\n",
        "ax.set_title('Scatterplot of Reimbursement Amounts')\n",
        "\n",
        "ax.set_xlabel('Total Amount Reimbursed')\n",
        "\n",
        "ax.set_ylabel('Non Medicaid Amount Reimbursed')\n",
        "\n",
        "plt.show()"
      ],
      "execution_count": 5,
      "outputs": [
        {
          "output_type": "display_data",
          "data": {
            "image/png": "[encoded data removed]",
            "text/plain": [
              "<Figure size 432x288 with 1 Axes>"
            ]
          },
          "metadata": {
            "tags": [],
            "needs_background": "light"
          }
        }
      ]
    },
    {
      "cell_type": "code",
      "metadata": {
        "colab": {
          "base_uri": "https://localhost:8080/",
          "height": 279
        },
        "id": "8PkuovgCpGhJ",
        "outputId": "e5771051-b5a3-4238-b132-e515b2fc9a2a"
      },
      "source": [
        "ax = sns.boxplot(x=\"Quarter\", y=\"Package Size\", data=df)"
      ],
      "execution_count": 30,
      "outputs": [
        {
          "output_type": "display_data",
          "data": {
            "image/png": "[encoded data removed]",
            "text/plain": [
              "<Figure size 432x288 with 1 Axes>"
            ]
          },
          "metadata": {
            "tags": [],
            "needs_background": "light"
          }
        }
      ]
    },
    {
      "cell_type": "code",
      "metadata": {
        "colab": {
          "base_uri": "https://localhost:8080/",
          "height": 383
        },
        "id": "2c7w5PySs46R",
        "outputId": "5f35e192-2da0-4b11-a0f2-c8588c7e0f12"
      },
      "source": [
        "ax = sns.catplot(x=\"Quarter\", y=\"Units Reimbursed\", data=df, kind=\"bar\");"
      ],
      "execution_count": 28,
      "outputs": [
        {
          "output_type": "display_data",
          "data": {
            "image/png": "[encoded data removed]",
            "text/plain": [
              "<Figure size 360x360 with 1 Axes>"
            ]
          },
          "metadata": {
            "tags": [],
            "needs_background": "light"
          }
        }
      ]
    },
    {
      "cell_type": "markdown",
      "metadata": {
        "id": "GFTSGkOd07rV"
      },
      "source": [
        "Seaborn is used best for statistical visualizations.  It can be used to summarize the statistics of a data set and provide a high-level view of the distribution of the data.  It is particularly useful in the fact that it can produce interesting visualizations with fewer lines of code and does not require the input of several customizations since it contains effective default settings."
      ]
    }
  ]
}
