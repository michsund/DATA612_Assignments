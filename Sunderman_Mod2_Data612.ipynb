{
  "nbformat": 4,
  "nbformat_minor": 0,
  "metadata": {
    "colab": {
      "name": "Sunderman_Mod2_Data612.ipynb",
      "provenance": [],
      "collapsed_sections": [],
      "include_colab_link": true
    },
    "kernelspec": {
      "name": "python3",
      "display_name": "Python 3"
    }
  },
  "cells": [
    {
      "cell_type": "markdown",
      "metadata": {
        "id": "view-in-github",
        "colab_type": "text"
      },
      "source": [
        "<a href=\"https://colab.research.google.com/github/michsund/DATA612_Assignments/blob/main/Sunderman_Mod2_Data612.ipynb\" target=\"_parent\"><img src=\"https://colab.research.google.com/assets/colab-badge.svg\" alt=\"Open In Colab\"/></a>"
      ]
    },
    {
      "cell_type": "markdown",
      "metadata": {
        "id": "qTVw3jQgGaWL"
      },
      "source": [
        "# Assignment for Week 2"
      ]
    },
    {
      "cell_type": "markdown",
      "metadata": {
        "id": "nXTJBBaqGnqN"
      },
      "source": [
        "## Purpose:     \n",
        "This assignment is intended to help you do the following:   \n",
        "1.\tModify and add information on the dataset by adding and calculating new columns     \n",
        "2.\tWork with dates in a dataset       \n",
        "3.\tLearn how to write and save your work as a csv file from Jupyter Notebook.       \n"
      ]
    },
    {
      "cell_type": "markdown",
      "metadata": {
        "id": "KBQPWLNtHJuG"
      },
      "source": [
        "## Action Items:       \n",
        "•\tCreate a new column using the date column.     \n",
        "  1. Find the maximum date of your data.     \n",
        "  2. Subtract all the dates on the column from the maximum date.       \n",
        "  3. Convert the number of days into number of months.       \n",
        "  4. Save the result on a new column and add to the data set.        \n",
        "  5. Save the dataset as a csv file.        \n",
        "  6. Upload the assignment on your GitHub account and Update the README file where you explain everything you did.      "
      ]
    },
    {
      "cell_type": "code",
      "metadata": {
        "id": "ZLZR60w1Oa7g"
      },
      "source": [
        "import pandas as pd\n",
        "import numpy as np"
      ],
      "execution_count": 9,
      "outputs": []
    },
    {
      "cell_type": "code",
      "metadata": {
        "id": "gc3ehZisOdDh"
      },
      "source": [
        "df = pd.read_csv('https://raw.githubusercontent.com/frankData612/data_612/master/State_Drug_Utilization_Data_2010/State_Drug_Utilization_Data_2010.csv')"
      ],
      "execution_count": 2,
      "outputs": []
    },
    {
      "cell_type": "code",
      "metadata": {
        "id": "p8X2ndIwvDSM",
        "outputId": "f2101fe6-8042-4207-a2d9-1c5d583f34ca",
        "colab": {
          "base_uri": "https://localhost:8080/",
          "height": 114
        }
      },
      "source": [
        "df.head(1)"
      ],
      "execution_count": 3,
      "outputs": [
        {
          "output_type": "execute_result",
          "data": {
            "text/html": [
              "<div>\n",
              "<style scoped>\n",
              "    .dataframe tbody tr th:only-of-type {\n",
              "        vertical-align: middle;\n",
              "    }\n",
              "\n",
              "    .dataframe tbody tr th {\n",
              "        vertical-align: top;\n",
              "    }\n",
              "\n",
              "    .dataframe thead th {\n",
              "        text-align: right;\n",
              "    }\n",
              "</style>\n",
              "<table border=\"1\" class=\"dataframe\">\n",
              "  <thead>\n",
              "    <tr style=\"text-align: right;\">\n",
              "      <th></th>\n",
              "      <th>Unnamed: 0</th>\n",
              "      <th>Utilization Type</th>\n",
              "      <th>State</th>\n",
              "      <th>Labeler Code</th>\n",
              "      <th>Product Code</th>\n",
              "      <th>Package Size</th>\n",
              "      <th>Year</th>\n",
              "      <th>Quarter</th>\n",
              "      <th>Product Name</th>\n",
              "      <th>Units Reimbursed</th>\n",
              "      <th>Suppression Used</th>\n",
              "      <th>Number of Prescriptions</th>\n",
              "      <th>Total Amount Reimbursed</th>\n",
              "      <th>Medicaid Amount Reimbursed</th>\n",
              "      <th>Non Medicaid Amount Reimbursed</th>\n",
              "      <th>Quarter Begin</th>\n",
              "      <th>Quarter Begin Date</th>\n",
              "      <th>Latitude</th>\n",
              "      <th>Longitude</th>\n",
              "      <th>Location</th>\n",
              "      <th>NDC</th>\n",
              "    </tr>\n",
              "  </thead>\n",
              "  <tbody>\n",
              "    <tr>\n",
              "      <th>0</th>\n",
              "      <td>128037</td>\n",
              "      <td>MCOU</td>\n",
              "      <td>MA</td>\n",
              "      <td>37205</td>\n",
              "      <td>137</td>\n",
              "      <td>5</td>\n",
              "      <td>2010</td>\n",
              "      <td>4</td>\n",
              "      <td>ARTIFICIAL</td>\n",
              "      <td>15.0</td>\n",
              "      <td>False</td>\n",
              "      <td>1</td>\n",
              "      <td>4.08</td>\n",
              "      <td>4.08</td>\n",
              "      <td>0.0</td>\n",
              "      <td>10/1</td>\n",
              "      <td>10/01/2010</td>\n",
              "      <td>31.1801</td>\n",
              "      <td>-91.8749</td>\n",
              "      <td>(31.1801, -91.8749)</td>\n",
              "      <td>37205013705</td>\n",
              "    </tr>\n",
              "  </tbody>\n",
              "</table>\n",
              "</div>"
            ],
            "text/plain": [
              "   Unnamed: 0 Utilization Type  ...             Location          NDC\n",
              "0      128037             MCOU  ...  (31.1801, -91.8749)  37205013705\n",
              "\n",
              "[1 rows x 21 columns]"
            ]
          },
          "metadata": {
            "tags": []
          },
          "execution_count": 3
        }
      ]
    },
    {
      "cell_type": "code",
      "metadata": {
        "id": "_5Z-177_vNg9"
      },
      "source": [
        "qdate = df['Quarter Begin Date']"
      ],
      "execution_count": 4,
      "outputs": []
    },
    {
      "cell_type": "code",
      "metadata": {
        "id": "dbHgpUKDvqAY",
        "outputId": "e7b73617-9001-42c3-b031-5855c2bcdf1a",
        "colab": {
          "base_uri": "https://localhost:8080/",
          "height": 35
        }
      },
      "source": [
        "qdate.max()"
      ],
      "execution_count": 5,
      "outputs": [
        {
          "output_type": "execute_result",
          "data": {
            "application/vnd.google.colaboratory.intrinsic+json": {
              "type": "string"
            },
            "text/plain": [
              "'10/01/2010'"
            ]
          },
          "metadata": {
            "tags": []
          },
          "execution_count": 5
        }
      ]
    },
    {
      "cell_type": "code",
      "metadata": {
        "id": "Kx83SQL3vwQe",
        "outputId": "740d999c-954b-4c0e-8bcf-776e826dfe62",
        "colab": {
          "base_uri": "https://localhost:8080/",
          "height": 221
        }
      },
      "source": [
        "qtrdate = pd.to_datetime(df['Quarter Begin Date'], format='%m/%d/%Y')\n",
        "\n",
        "qtrdate"
      ],
      "execution_count": 6,
      "outputs": [
        {
          "output_type": "execute_result",
          "data": {
            "text/plain": [
              "0        2010-10-01\n",
              "1        2010-01-01\n",
              "2        2010-04-01\n",
              "3        2010-10-01\n",
              "4        2010-04-01\n",
              "            ...    \n",
              "156215   2010-04-01\n",
              "156216   2010-10-01\n",
              "156217   2010-10-01\n",
              "156218   2010-10-01\n",
              "156219   2010-01-01\n",
              "Name: Quarter Begin Date, Length: 156220, dtype: datetime64[ns]"
            ]
          },
          "metadata": {
            "tags": []
          },
          "execution_count": 6
        }
      ]
    },
    {
      "cell_type": "code",
      "metadata": {
        "id": "l6U6u2Qrw8BB",
        "outputId": "26b62836-dc6a-421a-a024-b5083f17ff4f",
        "colab": {
          "base_uri": "https://localhost:8080/",
          "height": 221
        }
      },
      "source": [
        "daydif = (qtrdate.max() - qtrdate)\n",
        "\n",
        "daydif"
      ],
      "execution_count": 7,
      "outputs": [
        {
          "output_type": "execute_result",
          "data": {
            "text/plain": [
              "0          0 days\n",
              "1        273 days\n",
              "2        183 days\n",
              "3          0 days\n",
              "4        183 days\n",
              "           ...   \n",
              "156215   183 days\n",
              "156216     0 days\n",
              "156217     0 days\n",
              "156218     0 days\n",
              "156219   273 days\n",
              "Name: Quarter Begin Date, Length: 156220, dtype: timedelta64[ns]"
            ]
          },
          "metadata": {
            "tags": []
          },
          "execution_count": 7
        }
      ]
    },
    {
      "cell_type": "code",
      "metadata": {
        "id": "_MaKP4FgxOu3",
        "outputId": "886a1afa-c290-428d-d778-34db5b2bdbdc",
        "colab": {
          "base_uri": "https://localhost:8080/",
          "height": 221
        }
      },
      "source": [
        "monthdif = daydif / np.timedelta64(1,'M')\n",
        "\n",
        "monthdif"
      ],
      "execution_count": 11,
      "outputs": [
        {
          "output_type": "execute_result",
          "data": {
            "text/plain": [
              "0         0.000000\n",
              "1         8.969383\n",
              "2         6.012444\n",
              "3         0.000000\n",
              "4         6.012444\n",
              "            ...   \n",
              "156215    6.012444\n",
              "156216    0.000000\n",
              "156217    0.000000\n",
              "156218    0.000000\n",
              "156219    8.969383\n",
              "Name: Quarter Begin Date, Length: 156220, dtype: float64"
            ]
          },
          "metadata": {
            "tags": []
          },
          "execution_count": 11
        }
      ]
    },
    {
      "cell_type": "code",
      "metadata": {
        "id": "cAAY0Cqs3Jxi"
      },
      "source": [
        "df['Max Date Difference'] = monthdif"
      ],
      "execution_count": 12,
      "outputs": []
    },
    {
      "cell_type": "code",
      "metadata": {
        "id": "ZC1E6E5Y3UzB",
        "outputId": "7ce6976b-0b3b-4891-b407-f15418a54c9d",
        "colab": {
          "base_uri": "https://localhost:8080/",
          "height": 162
        }
      },
      "source": [
        "df.head(2)"
      ],
      "execution_count": 13,
      "outputs": [
        {
          "output_type": "execute_result",
          "data": {
            "text/html": [
              "<div>\n",
              "<style scoped>\n",
              "    .dataframe tbody tr th:only-of-type {\n",
              "        vertical-align: middle;\n",
              "    }\n",
              "\n",
              "    .dataframe tbody tr th {\n",
              "        vertical-align: top;\n",
              "    }\n",
              "\n",
              "    .dataframe thead th {\n",
              "        text-align: right;\n",
              "    }\n",
              "</style>\n",
              "<table border=\"1\" class=\"dataframe\">\n",
              "  <thead>\n",
              "    <tr style=\"text-align: right;\">\n",
              "      <th></th>\n",
              "      <th>Unnamed: 0</th>\n",
              "      <th>Utilization Type</th>\n",
              "      <th>State</th>\n",
              "      <th>Labeler Code</th>\n",
              "      <th>Product Code</th>\n",
              "      <th>Package Size</th>\n",
              "      <th>Year</th>\n",
              "      <th>Quarter</th>\n",
              "      <th>Product Name</th>\n",
              "      <th>Units Reimbursed</th>\n",
              "      <th>Suppression Used</th>\n",
              "      <th>Number of Prescriptions</th>\n",
              "      <th>Total Amount Reimbursed</th>\n",
              "      <th>Medicaid Amount Reimbursed</th>\n",
              "      <th>Non Medicaid Amount Reimbursed</th>\n",
              "      <th>Quarter Begin</th>\n",
              "      <th>Quarter Begin Date</th>\n",
              "      <th>Latitude</th>\n",
              "      <th>Longitude</th>\n",
              "      <th>Location</th>\n",
              "      <th>NDC</th>\n",
              "      <th>Max Date Difference</th>\n",
              "    </tr>\n",
              "  </thead>\n",
              "  <tbody>\n",
              "    <tr>\n",
              "      <th>0</th>\n",
              "      <td>128037</td>\n",
              "      <td>MCOU</td>\n",
              "      <td>MA</td>\n",
              "      <td>37205</td>\n",
              "      <td>137</td>\n",
              "      <td>5</td>\n",
              "      <td>2010</td>\n",
              "      <td>4</td>\n",
              "      <td>ARTIFICIAL</td>\n",
              "      <td>15.0</td>\n",
              "      <td>False</td>\n",
              "      <td>1</td>\n",
              "      <td>4.08</td>\n",
              "      <td>4.08</td>\n",
              "      <td>0.0</td>\n",
              "      <td>10/1</td>\n",
              "      <td>10/01/2010</td>\n",
              "      <td>31.1801</td>\n",
              "      <td>-91.8749</td>\n",
              "      <td>(31.1801, -91.8749)</td>\n",
              "      <td>37205013705</td>\n",
              "      <td>0.000000</td>\n",
              "    </tr>\n",
              "    <tr>\n",
              "      <th>1</th>\n",
              "      <td>491755</td>\n",
              "      <td>FFSU</td>\n",
              "      <td>FL</td>\n",
              "      <td>62756</td>\n",
              "      <td>763</td>\n",
              "      <td>88</td>\n",
              "      <td>2010</td>\n",
              "      <td>1</td>\n",
              "      <td>TORSEMIDE</td>\n",
              "      <td>255.0</td>\n",
              "      <td>False</td>\n",
              "      <td>8</td>\n",
              "      <td>103.33</td>\n",
              "      <td>103.33</td>\n",
              "      <td>0.0</td>\n",
              "      <td>1/1</td>\n",
              "      <td>01/01/2010</td>\n",
              "      <td>39.3498</td>\n",
              "      <td>-75.5148</td>\n",
              "      <td>(39.3498, -75.5148)</td>\n",
              "      <td>62756076388</td>\n",
              "      <td>8.969383</td>\n",
              "    </tr>\n",
              "  </tbody>\n",
              "</table>\n",
              "</div>"
            ],
            "text/plain": [
              "   Unnamed: 0 Utilization Type  ...          NDC  Max Date Difference\n",
              "0      128037             MCOU  ...  37205013705             0.000000\n",
              "1      491755             FFSU  ...  62756076388             8.969383\n",
              "\n",
              "[2 rows x 22 columns]"
            ]
          },
          "metadata": {
            "tags": []
          },
          "execution_count": 13
        }
      ]
    },
    {
      "cell_type": "code",
      "metadata": {
        "id": "l2Zhnd8u0DPf"
      },
      "source": [
        "df.to_csv('statedrugut_dates.csv', index=False)"
      ],
      "execution_count": 14,
      "outputs": []
    }
  ]
}